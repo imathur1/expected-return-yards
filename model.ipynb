{
 "cells": [
  {
   "cell_type": "code",
   "execution_count": 2,
   "id": "e626a104-30fa-4be0-bcb7-2f1235af26f0",
   "metadata": {
    "gather": {
     "logged": 1637702026331
    }
   },
   "outputs": [],
   "source": [
    "import math\n",
    "import pandas as pd\n",
    "import numpy as np\n",
    "import torch\n",
    "from torch import nn\n",
    "import matplotlib.pyplot as plt \n",
    "from sklearn.preprocessing import normalize\n",
    "from sklearn.model_selection import train_test_split"
   ]
  },
  {
   "cell_type": "code",
   "execution_count": 3,
   "id": "4f0d6f18-60ec-4617-8dc8-3691cba6e16d",
   "metadata": {
    "gather": {
     "logged": 1637702152545
    }
   },
   "outputs": [
    {
     "data": {
      "text/html": [
       "<div>\n",
       "<style scoped>\n",
       "    .dataframe tbody tr th:only-of-type {\n",
       "        vertical-align: middle;\n",
       "    }\n",
       "\n",
       "    .dataframe tbody tr th {\n",
       "        vertical-align: top;\n",
       "    }\n",
       "\n",
       "    .dataframe thead th {\n",
       "        text-align: right;\n",
       "    }\n",
       "</style>\n",
       "<table border=\"1\" class=\"dataframe\">\n",
       "  <thead>\n",
       "    <tr style=\"text-align: right;\">\n",
       "      <th></th>\n",
       "      <th>x</th>\n",
       "      <th>y</th>\n",
       "      <th>s</th>\n",
       "      <th>a</th>\n",
       "      <th>dis</th>\n",
       "      <th>o</th>\n",
       "      <th>dir</th>\n",
       "      <th>event</th>\n",
       "      <th>nflId</th>\n",
       "      <th>position</th>\n",
       "      <th>team</th>\n",
       "      <th>frameId</th>\n",
       "      <th>gameId</th>\n",
       "      <th>playId</th>\n",
       "    </tr>\n",
       "  </thead>\n",
       "  <tbody>\n",
       "    <tr>\n",
       "      <th>0</th>\n",
       "      <td>41.32</td>\n",
       "      <td>29.45</td>\n",
       "      <td>4.36</td>\n",
       "      <td>1.33</td>\n",
       "      <td>0.43</td>\n",
       "      <td>130.42</td>\n",
       "      <td>128.44</td>\n",
       "      <td>None</td>\n",
       "      <td>39470.0</td>\n",
       "      <td>K</td>\n",
       "      <td>home</td>\n",
       "      <td>1</td>\n",
       "      <td>2018123000</td>\n",
       "      <td>36</td>\n",
       "    </tr>\n",
       "    <tr>\n",
       "      <th>1</th>\n",
       "      <td>41.68</td>\n",
       "      <td>29.17</td>\n",
       "      <td>4.59</td>\n",
       "      <td>1.24</td>\n",
       "      <td>0.45</td>\n",
       "      <td>128.59</td>\n",
       "      <td>127.81</td>\n",
       "      <td>None</td>\n",
       "      <td>39470.0</td>\n",
       "      <td>K</td>\n",
       "      <td>home</td>\n",
       "      <td>2</td>\n",
       "      <td>2018123000</td>\n",
       "      <td>36</td>\n",
       "    </tr>\n",
       "    <tr>\n",
       "      <th>2</th>\n",
       "      <td>42.05</td>\n",
       "      <td>28.88</td>\n",
       "      <td>4.74</td>\n",
       "      <td>0.99</td>\n",
       "      <td>0.47</td>\n",
       "      <td>124.47</td>\n",
       "      <td>128.15</td>\n",
       "      <td>None</td>\n",
       "      <td>39470.0</td>\n",
       "      <td>K</td>\n",
       "      <td>home</td>\n",
       "      <td>3</td>\n",
       "      <td>2018123000</td>\n",
       "      <td>36</td>\n",
       "    </tr>\n",
       "    <tr>\n",
       "      <th>3</th>\n",
       "      <td>42.43</td>\n",
       "      <td>28.59</td>\n",
       "      <td>4.87</td>\n",
       "      <td>0.71</td>\n",
       "      <td>0.48</td>\n",
       "      <td>126.02</td>\n",
       "      <td>127.35</td>\n",
       "      <td>None</td>\n",
       "      <td>39470.0</td>\n",
       "      <td>K</td>\n",
       "      <td>home</td>\n",
       "      <td>4</td>\n",
       "      <td>2018123000</td>\n",
       "      <td>36</td>\n",
       "    </tr>\n",
       "    <tr>\n",
       "      <th>4</th>\n",
       "      <td>42.84</td>\n",
       "      <td>28.31</td>\n",
       "      <td>4.96</td>\n",
       "      <td>0.79</td>\n",
       "      <td>0.50</td>\n",
       "      <td>131.71</td>\n",
       "      <td>124.75</td>\n",
       "      <td>None</td>\n",
       "      <td>39470.0</td>\n",
       "      <td>K</td>\n",
       "      <td>home</td>\n",
       "      <td>5</td>\n",
       "      <td>2018123000</td>\n",
       "      <td>36</td>\n",
       "    </tr>\n",
       "  </tbody>\n",
       "</table>\n",
       "</div>"
      ],
      "text/plain": [
       "       x      y     s     a   dis       o     dir event    nflId position  \\\n",
       "0  41.32  29.45  4.36  1.33  0.43  130.42  128.44  None  39470.0        K   \n",
       "1  41.68  29.17  4.59  1.24  0.45  128.59  127.81  None  39470.0        K   \n",
       "2  42.05  28.88  4.74  0.99  0.47  124.47  128.15  None  39470.0        K   \n",
       "3  42.43  28.59  4.87  0.71  0.48  126.02  127.35  None  39470.0        K   \n",
       "4  42.84  28.31  4.96  0.79  0.50  131.71  124.75  None  39470.0        K   \n",
       "\n",
       "   team  frameId      gameId  playId  \n",
       "0  home        1  2018123000      36  \n",
       "1  home        2  2018123000      36  \n",
       "2  home        3  2018123000      36  \n",
       "3  home        4  2018123000      36  \n",
       "4  home        5  2018123000      36  "
      ]
     },
     "execution_count": 3,
     "metadata": {},
     "output_type": "execute_result"
    }
   ],
   "source": [
    "tracking_2018_df = pd.read_csv(\"tracking2018.csv\")\n",
    "tracking_2019_df = pd.read_csv(\"tracking2019.csv\")\n",
    "tracking_2020_df = pd.read_csv(\"tracking2020.csv\")\n",
    "tracking_df = pd.concat([tracking_2018_df, tracking_2019_df, tracking_2020_df], axis=0)\n",
    "\n",
    "tracking_df = tracking_df.drop([\"time\", \"displayName\", \"jerseyNumber\", \"playDirection\"], axis=1)\n",
    "tracking_df.head()"
   ]
  },
  {
   "cell_type": "code",
   "execution_count": 4,
   "id": "eaccb54a-e78d-40b7-b993-ba8de9908174",
   "metadata": {
    "collapsed": false,
    "gather": {
     "logged": 1637702156567
    },
    "jupyter": {
     "outputs_hidden": false,
     "source_hidden": false
    },
    "nteract": {
     "transient": {
      "deleting": false
     }
    }
   },
   "outputs": [],
   "source": [
    "tracking_df = tracking_df.dropna(subset=['nflId'])\n",
    "tracking_df[\"nflId\"] = tracking_df[\"nflId\"].astype(int)\n",
    "tracking_single_df = tracking_df.loc[tracking_df[\"event\"] == \"kick_received\"]\n",
    "tracking_single_df = tracking_single_df.drop([\"event\"], axis=1)"
   ]
  },
  {
   "cell_type": "code",
   "execution_count": 6,
   "id": "e2199577-232e-4ba0-b62f-4ed922cb799c",
   "metadata": {
    "gather": {
     "logged": 1637703089677
    }
   },
   "outputs": [],
   "source": [
    "WIDTH = 120\n",
    "HEIGHT = 53.3\n",
    "\n",
    "def reflect_x(x):\n",
    "    return (360 - x)\n",
    "\n",
    "def reflect_y(y):\n",
    "    return (540 - y) % 360\n",
    "\n",
    "def get_train_data(train_kickoff_df):\n",
    "    valid_indices = get_valid_indices(train_kickoff_df)\n",
    "    \n",
    "    X_train = np.empty((len(valid_indices) * 2, 11, 10, 10))\n",
    "    Y_train = np.zeros((len(valid_indices) * 2, 209))\n",
    "    indices = train_kickoff_df.index\n",
    "    for i in range(len(valid_indices)):\n",
    "        index = valid_indices[i]\n",
    "        play_df = tracking_single_df.loc[(tracking_single_df[\"gameId\"] == indices[index][0]) & \n",
    "                                    (tracking_single_df[\"playId\"] == indices[index][1])]\n",
    "\n",
    "        returner = int(train_kickoff_df.iloc[index][\"returnerId\"].split(\";\")[0])\n",
    "        offense = play_df.loc[play_df[\"nflId\"] == returner][\"team\"].values[0]\n",
    "        offense_df = play_df.loc[play_df[\"team\"] == offense].reset_index()\n",
    "        returner_df = offense_df.loc[offense_df[\"nflId\"] == returner]\n",
    "        offense_df = offense_df.drop(offense_df[offense_df['nflId'] == returner].index).reset_index()\n",
    "        defense_df = play_df.loc[play_df[\"team\"] != offense].reset_index()\n",
    "        r_row = returner_df.iloc[0]\n",
    "\n",
    "        normal_data = np.empty((11, 10, 10))\n",
    "        augmented_y_data = np.empty((11, 10, 10))\n",
    "        for j, d_row in defense_df.iterrows():\n",
    "            normal = np.empty((10, 10))\n",
    "            augmented_y = np.empty((10, 10))\n",
    "            for k, o_row in offense_df.iterrows():\n",
    "                # Defense Sx,Sy\n",
    "                normal[0][k] = math.sin(d_row[\"dir\"] * math.pi/180) * d_row[\"s\"]\n",
    "                normal[1][k] = math.cos(d_row[\"dir\"] * math.pi/180) * d_row[\"s\"]\n",
    "                augmented_y[0][k] = math.sin(d_row[\"dir\"] * math.pi/180) * d_row[\"s\"]\n",
    "                augmented_y[1][k] = math.cos(reflect_y(d_row[\"dir\"]) * math.pi/180) * d_row[\"s\"]\n",
    "\n",
    "                # Defense X,Y - Returner X,Y\n",
    "                normal[2][k] = d_row[\"x\"] - r_row[\"x\"]\n",
    "                normal[3][k] = d_row[\"y\"] - r_row[\"y\"]\n",
    "                augmented_y[2][k] = d_row[\"x\"] - r_row[\"x\"]\n",
    "                augmented_y[3][k] = (HEIGHT - d_row[\"y\"]) - (HEIGHT - r_row[\"y\"])\n",
    "\n",
    "                # Defense Sx,Sy - Returner Sx,Sy\n",
    "                normal[4][k] = math.sin(d_row[\"dir\"] * math.pi/180) * d_row[\"s\"] - math.sin(r_row[\"dir\"] * math.pi/180) * r_row[\"s\"]\n",
    "                normal[5][k] = math.cos(d_row[\"dir\"] * math.pi/180) * d_row[\"s\"] - math.cos(r_row[\"dir\"] * math.pi/180) * r_row[\"s\"]\n",
    "                augmented_y[4][k] = math.sin(d_row[\"dir\"] * math.pi/180) * d_row[\"s\"] - math.sin(r_row[\"dir\"] * math.pi/180) * r_row[\"s\"]\n",
    "                augmented_y[5][k] = math.cos(reflect_y(d_row[\"dir\"]) * math.pi/180) * d_row[\"s\"] - math.cos(reflect_y(r_row[\"dir\"]) * math.pi/180) * r_row[\"s\"]\n",
    "                \n",
    "                # Offense X,Y - Defense X,Y\n",
    "                normal[6][k] = o_row[\"x\"] - d_row[\"x\"]\n",
    "                normal[7][k] = o_row[\"y\"] - d_row[\"y\"]\n",
    "                augmented_y[6][k] = o_row[\"x\"] - d_row[\"x\"]\n",
    "                augmented_y[7][k] = (HEIGHT - o_row[\"y\"]) - (HEIGHT - d_row[\"y\"])\n",
    "\n",
    "                # Offense Sx,Sy - Defense Sx,Sy\n",
    "                normal[8][k] = math.sin(o_row[\"dir\"] * math.pi/180) * o_row[\"s\"] - math.sin(d_row[\"dir\"] * math.pi/180) * d_row[\"s\"]\n",
    "                normal[9][k] = math.cos(o_row[\"dir\"] * math.pi/180) * o_row[\"s\"] - math.cos(d_row[\"dir\"] * math.pi/180) * d_row[\"s\"]\n",
    "                augmented_y[8][k] = math.sin(o_row[\"dir\"] * math.pi/180) * o_row[\"s\"] - math.sin(d_row[\"dir\"] * math.pi/180) * d_row[\"s\"]\n",
    "                augmented_y[9][k] = math.cos(reflect_y(o_row[\"dir\"]) * math.pi/180) * o_row[\"s\"] - math.cos(reflect_y(d_row[\"dir\"]) * math.pi/180) * d_row[\"s\"]\n",
    "            \n",
    "            normal_data[j] = normal\n",
    "            augmented_y_data[j] = augmented_y\n",
    "\n",
    "        X_train[i] = normal_data\n",
    "        X_train[i + 1] = augmented_y_data\n",
    "        yards = int(train_kickoff_df.iloc[index][\"kickReturnYardage\"])\n",
    "        Y_train[i: i + 2, yards + 99:] = np.ones((1, 110 - yards))\n",
    "\n",
    "    return torch.DoubleTensor(X_train), torch.DoubleTensor(Y_train)\n",
    "\n",
    "def get_kickoff_plays():\n",
    "    kickoff_df = all_plays_df.loc[(all_plays_df['specialTeamsPlayType'] == \"Kickoff\") & (all_plays_df[\"specialTeamsResult\"] == \"Return\")]\n",
    "    kickoff_df = kickoff_df.set_index([\"gameId\", \"playId\"])\n",
    "    kickoff_df = kickoff_df.drop([\"playDescription\", \"down\", \"yardsToGo\", \"kickBlockerId\",\n",
    "                              \"yardlineNumber\", \"yardlineSide\", \"gameClock\", \"penaltyCodes\", \"penaltyJerseyNumbers\",\n",
    "                              \"penaltyYards\", \"specialTeamsPlayType\", \"specialTeamsResult\", \"preSnapHomeScore\",\n",
    "                              \"preSnapVisitorScore\", \"passResult\", \"absoluteYardlineNumber\", \"playResult\"], axis=1)\n",
    "    \n",
    "    pff_indexed_df = pff_df.set_index([\"gameId\", \"playId\"])\n",
    "    kickoff_df = pd.concat([kickoff_df, pff_indexed_df], axis=1, join='inner')\n",
    "    kickoff_df = kickoff_df.drop([\"snapDetail\", \"snapTime\", \"operationTime\", \"gunners\", \"puntRushers\", \"vises\", \n",
    "                                 \"kickContactType\", \"missedTackler\", \"assistTackler\", \"tackler\",\n",
    "                                  \"returnDirectionActual\", \"specialTeamsSafeties\"], axis=1)\n",
    "\n",
    "    kickoff_df = kickoff_df.dropna(subset=['kickReturnYardage', 'returnerId'])\n",
    "    return kickoff_df\n",
    "\n",
    "def get_valid_indices(df):\n",
    "    indices = df.index\n",
    "    valid_indices = []\n",
    "    for i in range(len(indices)):\n",
    "        play_df = tracking_single_df.loc[(tracking_single_df[\"gameId\"] == indices[i][0]) & \n",
    "                                    (tracking_single_df[\"playId\"] == indices[i][1])]\n",
    "        if not play_df.empty:\n",
    "            valid_indices.append(i)\n",
    "    return valid_indices\n",
    "\n",
    "all_plays_df = pd.read_csv(\"plays.csv\")\n",
    "pff_df = pd.read_csv(\"PFFScoutingData.csv\")\n",
    "device = torch.device('cuda' if torch.cuda.is_available() else 'cpu')\n",
    "kickoff_df = get_kickoff_plays()\n",
    "X, Y = get_train_data(kickoff_df)"
   ]
  },
  {
   "cell_type": "code",
   "execution_count": 27,
   "id": "46c24cc1-232a-47aa-b87a-c94df53f86a2",
   "metadata": {
    "collapsed": false,
    "gather": {
     "logged": 1637702708430
    },
    "jupyter": {
     "outputs_hidden": false,
     "source_hidden": false
    },
    "nteract": {
     "transient": {
      "deleting": false
     }
    }
   },
   "outputs": [],
   "source": [
    "X_train, X_valid, Y_train, Y_valid = train_test_split(X, Y, test_size=0.2)"
   ]
  },
  {
   "cell_type": "code",
   "execution_count": 23,
   "id": "44f8e84f-fc0b-4e8d-b7bf-b04f6949f1ec",
   "metadata": {
    "collapsed": false,
    "gather": {
     "logged": 1637702712229
    },
    "jupyter": {
     "outputs_hidden": false,
     "source_hidden": false
    },
    "nteract": {
     "transient": {
      "deleting": false
     }
    }
   },
   "outputs": [],
   "source": [
    "class Lambda(nn.Module):\n",
    "    def __init__(self, lambd):\n",
    "        super(Lambda, self).__init__()\n",
    "        self.lambd = lambd\n",
    "    def forward(self, x):\n",
    "        return (self.lambd)(x)\n",
    "\n",
    "class Add(nn.Module):\n",
    "    def __init__(self):\n",
    "        super(Add, self).__init__()\n",
    "    def forward(self, x, y):\n",
    "        return x + y\n",
    "    \n",
    "class ERYNet(nn.Module):\n",
    "    def __init__(self):\n",
    "        super(ERYNet, self).__init__()\n",
    "                \n",
    "        self.block1 = nn.Sequential(\n",
    "            nn.Conv2d(11, 128, kernel_size=(1,1), stride=(1,1)),\n",
    "            nn.ReLU(),\n",
    "            nn.Conv2d(128, 160, kernel_size=(1,1),  stride=(1,1)),\n",
    "            nn.ReLU(),\n",
    "            nn.Conv2d(160, 128, kernel_size=(1,1),  stride=(1,1)),\n",
    "            nn.ReLU()\n",
    "        )\n",
    "        \n",
    "        self.maxpool2d = nn.MaxPool2d(kernel_size=(1, 10))\n",
    "        self.lambda1 = Lambda(lambda x: x * 0.3)\n",
    "        self.avgpool2d = nn.AvgPool2d(kernel_size=(1, 10))\n",
    "        self.lambda2 = Lambda(lambda x: x * 0.7)\n",
    "        self.add = Add()\n",
    "        self.norm2d = nn.BatchNorm2d(128)\n",
    "        self.squeeze1 = Lambda(lambda x : torch.squeeze(x,3))\n",
    "            \n",
    "        self.block2 = nn.Sequential(\n",
    "            nn.Conv1d(128, 160, kernel_size=1, stride=1),\n",
    "            nn.ReLU(),\n",
    "            nn.BatchNorm1d(160),\n",
    "            nn.Conv1d(160, 96, kernel_size=1,  stride=1),\n",
    "            nn.ReLU(),\n",
    "            nn.BatchNorm1d(96),\n",
    "            nn.Conv1d(96, 96, kernel_size=1,  stride=1),\n",
    "            nn.ReLU(),\n",
    "            nn.BatchNorm1d(96)\n",
    "        )\n",
    "        \n",
    "        self.maxpool1d = nn.MaxPool1d(kernel_size=10)\n",
    "        self.avgpool1d = nn.AvgPool1d(kernel_size=10)\n",
    "        self.squeeze2 = Lambda(lambda x : torch.squeeze(x,2))\n",
    "        \n",
    "        self.block3 = nn.Sequential(\n",
    "            nn.Linear(96, 96),\n",
    "            nn.ReLU(),\n",
    "            nn.BatchNorm1d(96),\n",
    "            nn.Linear(96, 256),\n",
    "            nn.ReLU(),\n",
    "            nn.BatchNorm1d(256),\n",
    "            nn.Dropout(0.3),\n",
    "            nn.Linear(256, 209),\n",
    "            nn.Softmax()\n",
    "        )\n",
    "    \n",
    "    def forward(self, x):\n",
    "        x = self.block1(x)\n",
    "        xmax = self.maxpool2d(x)\n",
    "        xmax = self.lambda1(xmax)\n",
    "        xavg = self.avgpool2d(x)\n",
    "        xavg = self.lambda2(xavg)\n",
    "        x = self.add(xmax, xavg)\n",
    "        x = self.norm2d(x)\n",
    "        x = self.squeeze1(x)\n",
    "\n",
    "        x = self.block2(x)\n",
    "        xmax = self.maxpool1d(x)\n",
    "        xmax = self.lambda1(xmax)\n",
    "        xavg = self.avgpool1d(x)\n",
    "        xavg = self.lambda2(xavg)\n",
    "        x = self.add(xmax, xavg)\n",
    "        x = self.squeeze2(x)\n",
    "\n",
    "        x = self.block3(x)\n",
    "        return x\n",
    "    \n",
    "def crps(y_true, y_pred):\n",
    "    return torch.mean(torch.square(y_true - torch.cumsum(y_pred, axis=1)), dim=1)"
   ]
  },
  {
   "cell_type": "code",
   "execution_count": 31,
   "id": "af61dc2f-d24f-41bd-b5c1-87d5dcf52b2c",
   "metadata": {
    "gather": {
     "logged": 1637702747247
    }
   },
   "outputs": [
    {
     "data": {
      "image/png": "[encoded data removed]",
      "text/plain": [
       "<Figure size 432x288 with 3 Axes>"
      ]
     },
     "metadata": {
      "needs_background": "light"
     },
     "output_type": "display_data"
    },
    {
     "name": "stdout",
     "output_type": "stream",
     "text": [
      "Train Loss: 0.0024562908802181482\n",
      "Train Error: 0.5131158220258867\n",
      "Train R2 Score: 0.999751780958419\n"
     ]
    },
    {
     "data": {
      "image/png": "[encoded data removed]",
      "text/plain": [
       "<Figure size 432x288 with 3 Axes>"
      ]
     },
     "metadata": {
      "needs_background": "light"
     },
     "output_type": "display_data"
    },
    {
     "name": "stdout",
     "output_type": "stream",
     "text": [
      "Test Loss: 0.015399854132597543\n",
      "Test Error: 3.3743715164764723\n",
      "Test R2 Score: 0.9861402540134462\n"
     ]
    }
   ],
   "source": [
    "def train(model, num_epochs, batch_size, X_train, Y_train, X_valid, Y_valid):\n",
    "    optimizer = torch.optim.Adam(model.parameters(), lr=0.0005)\n",
    "    scheduler = torch.optim.lr_scheduler.OneCycleLR(optimizer, 0.001, total_steps=num_epochs)\n",
    "\n",
    "    epochs = []\n",
    "    losses = []\n",
    "    errors = []\n",
    "    r2_scores = []\n",
    "    valid_losses = []\n",
    "    valid_errors = []\n",
    "    valid_r2_scores = []\n",
    "    num_samples = X_train.size()[0]\n",
    "    for epoch in range(num_epochs):\n",
    "        model.train()\n",
    "        shuffled_indices = torch.randperm(num_samples)\n",
    "        y_true = torch.empty((num_samples, 209)).to(device)\n",
    "        y_pred = torch.empty((num_samples, 209)).to(device)\n",
    "        for i in range(0, num_samples, batch_size):\n",
    "            optimizer.zero_grad()\n",
    "            indices = shuffled_indices[i: i + batch_size]\n",
    "            batch_x, batch_y = X_train[indices], Y_train[indices]\n",
    "            pred = model.forward(batch_x)\n",
    "            loss = sum(crps(batch_y, pred))\n",
    "            loss.backward()\n",
    "            optimizer.step()\n",
    "\n",
    "            y_true[i: i + batch_size] = batch_y\n",
    "            y_pred[i: i + batch_size] = pred\n",
    "        \n",
    "        epochs.append(epoch + 1)\n",
    "        losses.append(torch.mean(crps(y_true, y_pred)).item())\n",
    "        expected_yards = calculate_expected_yards(y_pred)            \n",
    "        actual_yards = (y_true <= 0).sum(dim=1) - 99.0\n",
    "        errors.append(torch.mean(torch.abs(actual_yards - expected_yards)).item())\n",
    "        r2_scores.append(r2_score(actual_yards, expected_yards).item())\n",
    "        valid_loss, valid_error, valid_r2_score = valid(model, X_valid, Y_valid)\n",
    "        valid_losses.append(valid_loss)\n",
    "        valid_errors.append(valid_error)\n",
    "        valid_r2_scores.append(valid_r2_score)\n",
    "        scheduler.step()\n",
    "\n",
    "    show_results(epochs, losses, errors, r2_scores)\n",
    "    show_results(epochs, valid_losses, valid_errors, valid_r2_scores, valid=True)\n",
    "\n",
    "def r2_score(y_true, y_pred):\n",
    "    target_mean = torch.mean(y_true)\n",
    "    ss_tot = torch.sum((y_true - target_mean) ** 2)\n",
    "    ss_res = torch.sum((y_true - y_pred) ** 2)\n",
    "    r2 = 1 - ss_res / ss_tot\n",
    "    return r2\n",
    "\n",
    "def calculate_expected_yards(prediction):\n",
    "    expected_yards = torch.DoubleTensor([i for i in range(-99, 110)]).to(device)\n",
    "    return (expected_yards * prediction).sum(dim=1)\n",
    "\n",
    "def valid(model, X_valid, Y_valid):\n",
    "    model.eval()\n",
    "    with torch.no_grad():            \n",
    "        prediction = model(X_valid)\n",
    "        loss = torch.mean(crps(Y_valid, prediction)).item()\n",
    "        expected_yards = calculate_expected_yards(prediction)            \n",
    "        actual_yards = (Y_valid <= 0).sum(dim=1) - 99.0\n",
    "        error = torch.mean(torch.abs(actual_yards - expected_yards)).item()\n",
    "        score = r2_score(actual_yards, expected_yards).item()\n",
    "        return loss, error, score\n",
    "\n",
    "def show_results(epochs, losses, errors, r2_scores, valid=False):\n",
    "    figure, axis = plt.subplots(3)\n",
    "    figure.tight_layout(pad=1.0)\n",
    "    axis[0].plot(epochs, losses)\n",
    "    axis[0].set_title(\"Loss\")\n",
    "    axis[1].plot(epochs, errors)\n",
    "    axis[1].set_title(\"Error\")\n",
    "    axis[2].plot(epochs, r2_scores)\n",
    "    axis[2].set_title(\"R2 Score\")\n",
    "    plt.show()\n",
    "\n",
    "    if valid:\n",
    "        print(\"Validation Loss:\", losses[-1])\n",
    "        print(\"Validation Error:\", errors[-1])\n",
    "        print(\"Validation R2 Score:\", r2_scores[-1])\n",
    "    else:\n",
    "        print(\"Train Loss:\", losses[-1])\n",
    "        print(\"Train Error:\", errors[-1])\n",
    "        print(\"Train R2 Score:\", r2_scores[-1])\n",
    "\n",
    "model = ERYNet().to(device).double()\n",
    "num_epochs = 500\n",
    "batch_size = 64\n",
    "train(model, num_epochs, batch_size, X_train, Y_train, X_valid, Y_valid)"
   ]
  },
  {
   "cell_type": "code",
   "execution_count": 33,
   "id": "41e2975a-024c-429b-8d94-ef4ce771093c",
   "metadata": {
    "collapsed": false,
    "gather": {
     "logged": 1637647747065
    },
    "jupyter": {
     "outputs_hidden": false,
     "source_hidden": false
    },
    "nteract": {
     "transient": {
      "deleting": false
     }
    }
   },
   "outputs": [],
   "source": [
    "def predict(samples):\n",
    "    model.eval()\n",
    "    with torch.no_grad():            \n",
    "        prediction = model(samples)\n",
    "        expected_yards = calculate_expected_yards(prediction)\n",
    "        return expected_yards"
   ]
  }
 ],
 "metadata": {
  "kernel_info": {
   "name": "python3"
  },
  "kernelspec": {
   "display_name": "Python 3",
   "language": "python",
   "name": "python3"
  },
  "language_info": {
   "codemirror_mode": {
    "name": "ipython",
    "version": 3
   },
   "file_extension": ".py",
   "mimetype": "text/x-python",
   "name": "python",
   "nbconvert_exporter": "python",
   "pygments_lexer": "ipython3",
   "version": "3.8.8"
  },
  "microsoft": {
   "host": {
    "AzureML": {
     "notebookHasBeenCompleted": true
    }
   }
  },
  "nteract": {
   "version": "nteract-front-end@1.0.0"
  }
 },
 "nbformat": 4,
 "nbformat_minor": 5
}
